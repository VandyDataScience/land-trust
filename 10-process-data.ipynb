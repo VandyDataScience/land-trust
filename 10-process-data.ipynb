{
 "cells": [
  {
   "cell_type": "markdown",
   "metadata": {},
   "source": [
    "# 10-process-data\n",
    "> Importing, cleaning, testing, and saving data\n",
    "\n",
    "This series of notebooks reflects operations to scrape, prepare, validate, and save the data."
   ]
  },
  {
   "cell_type": "markdown",
   "metadata": {},
   "source": [
    "#### Helpful packages and preliminaries"
   ]
  },
  {
   "cell_type": "code",
   "execution_count": 1,
   "metadata": {},
   "outputs": [],
   "source": [
    "#data access and processing\n",
    "#import pandas as pd\n",
    "import numpy as np\n",
    "\n",
    "#Testing assertions\n",
    "#import great_expectations as ge"
   ]
  },
  {
   "cell_type": "code",
   "execution_count": 2,
   "metadata": {},
   "outputs": [],
   "source": [
    "from osgeo import gdal"
   ]
  },
  {
   "cell_type": "code",
   "execution_count": 3,
   "metadata": {},
   "outputs": [],
   "source": [
    "raster1 = \"C:/Users/matth/Documents/code/VDS/land-trust/NEW AOI Raster Dataset/VDS Team Data Share/CONUS2001_ClipAOI.tif\"\n",
    "raster2 = \"C:/Users/matth/Documents/code/VDS/land-trust/NEW AOI Raster Dataset/VDS Team Data Share/CONUS2004_ClipAOI.tif\""
   ]
  },
  {
   "cell_type": "code",
   "execution_count": 4,
   "metadata": {},
   "outputs": [],
   "source": [
    "ds1 = gdal.Open(raster1)\n",
    "ds2 = gdal.Open(raster2)"
   ]
  },
  {
   "cell_type": "code",
   "execution_count": 5,
   "metadata": {},
   "outputs": [
    {
     "ename": "AttributeError",
     "evalue": "'NoneType' object has no attribute 'GetProjection'",
     "output_type": "error",
     "traceback": [
      "\u001b[1;31m---------------------------------------------------------------------------\u001b[0m",
      "\u001b[1;31mAttributeError\u001b[0m                            Traceback (most recent call last)",
      "Cell \u001b[1;32mIn[5], line 1\u001b[0m\n\u001b[1;32m----> 1\u001b[0m \u001b[39mprint\u001b[39m(\u001b[39m\"\u001b[39m\u001b[39mProjection: \u001b[39m\u001b[39m\"\u001b[39m, ds1\u001b[39m.\u001b[39;49mGetProjection()) \u001b[39m#get projection\u001b[39;00m\n\u001b[0;32m      2\u001b[0m \u001b[39mprint\u001b[39m(\u001b[39m\"\u001b[39m\u001b[39mColumns:\u001b[39m\u001b[39m\"\u001b[39m, ds1\u001b[39m.\u001b[39mRasterXSize) \u001b[39m#number of columns\u001b[39;00m\n\u001b[0;32m      3\u001b[0m \u001b[39mprint\u001b[39m(\u001b[39m\"\u001b[39m\u001b[39mRows:\u001b[39m\u001b[39m\"\u001b[39m, ds1\u001b[39m.\u001b[39mRasterYSize) \u001b[39m#number of rows\u001b[39;00m\n",
      "\u001b[1;31mAttributeError\u001b[0m: 'NoneType' object has no attribute 'GetProjection'"
     ]
    }
   ],
   "source": [
    "print(\"Projection: \", ds1.GetProjection()) #get projection\n",
    "print(\"Columns:\", ds1.RasterXSize) #number of columns\n",
    "print(\"Rows:\", ds1.RasterYSize) #number of rows\n",
    "print(\"Band count: \", ds1.RasterCount) #number of bands"
   ]
  },
  {
   "cell_type": "code",
   "execution_count": null,
   "metadata": {},
   "outputs": [],
   "source": []
  }
 ],
 "metadata": {
  "kernelspec": {
   "display_name": "landtrust",
   "language": "python",
   "name": "python3"
  },
  "language_info": {
   "codemirror_mode": {
    "name": "ipython",
    "version": 3
   },
   "file_extension": ".py",
   "mimetype": "text/x-python",
   "name": "python",
   "nbconvert_exporter": "python",
   "pygments_lexer": "ipython3",
   "version": "3.9.16"
  },
  "vscode": {
   "interpreter": {
    "hash": "f305f5312fb6ba29934c65a0f63f87e5a7476fae767645c0e9b7d0f7306a76ca"
   }
  }
 },
 "nbformat": 4,
 "nbformat_minor": 4
}
