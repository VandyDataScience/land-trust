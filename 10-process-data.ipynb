{
 "cells": [
  {
   "cell_type": "markdown",
   "metadata": {},
   "source": [
    "# 10-process-data\n",
    "> Importing, cleaning, testing, and saving data\n",
    "\n",
    "This series of notebooks reflects operations to scrape, prepare, validate, and save the data."
   ]
  },
  {
   "cell_type": "markdown",
   "metadata": {},
   "source": [
    "#### Helpful packages and preliminaries"
   ]
  },
  {
   "cell_type": "code",
   "execution_count": 5,
   "metadata": {},
   "outputs": [],
   "source": [
    "#data access and processing\n",
    "import numpy as np\n",
    "from osgeo import gdal\n",
    "import matplotlib.pyplot as plt\n"
   ]
  },
  {
   "cell_type": "code",
   "execution_count": 3,
   "metadata": {},
   "outputs": [],
   "source": [
    "\n"
   ]
  },
  {
   "cell_type": "code",
   "execution_count": 6,
   "metadata": {},
   "outputs": [],
   "source": [
    "raster1 = \"/Users/namjukim/Desktop/DSI/VDS Team Data Share/CONUS2001_ClipAOI.tif\"\n",
    "raster2 = \"/Users/namjukim/Desktop/DSI/VDS Team Data Share/CONUS2004_ClipAOI.tif\""
   ]
  },
  {
   "cell_type": "code",
   "execution_count": 7,
   "metadata": {},
   "outputs": [],
   "source": [
    "ds1 = gdal.Open(raster1)\n",
    "ds2 = gdal.Open(raster2)"
   ]
  },
  {
   "cell_type": "code",
   "execution_count": 8,
   "metadata": {},
   "outputs": [
    {
     "name": "stdout",
     "output_type": "stream",
     "text": [
      "Projection:  PROJCS[\"Albers_Conical_Equal_Area\",GEOGCS[\"NAD83\",DATUM[\"North_American_Datum_1983\",SPHEROID[\"GRS 1980\",6378137,298.257222101004,AUTHORITY[\"EPSG\",\"7019\"]],AUTHORITY[\"EPSG\",\"6269\"]],PRIMEM[\"Greenwich\",0],UNIT[\"degree\",0.0174532925199433,AUTHORITY[\"EPSG\",\"9122\"]],AUTHORITY[\"EPSG\",\"4269\"]],PROJECTION[\"Albers_Conic_Equal_Area\"],PARAMETER[\"latitude_of_center\",23],PARAMETER[\"longitude_of_center\",-96],PARAMETER[\"standard_parallel_1\",29.5],PARAMETER[\"standard_parallel_2\",45.5],PARAMETER[\"false_easting\",0],PARAMETER[\"false_northing\",0],UNIT[\"metre\",1,AUTHORITY[\"EPSG\",\"9001\"]],AXIS[\"Easting\",EAST],AXIS[\"Northing\",NORTH]]\n",
      "Columns: 35165\n",
      "Rows: 17975\n",
      "Band count: 1\n"
     ]
    }
   ],
   "source": [
    "\n",
    "print(\"Projection: \", ds1.GetProjection())  # get projection\n",
    "print(\"Columns:\", ds1.RasterXSize)  # number of columns\n",
    "print(\"Rows:\", ds1.RasterYSize)  # number of rows\n",
    "print(\"Band count:\", ds1.RasterCount)  # number of bands"
   ]
  },
  {
   "cell_type": "code",
   "execution_count": 9,
   "metadata": {},
   "outputs": [
    {
     "name": "stdout",
     "output_type": "stream",
     "text": [
      "(17975, 35165)\n",
      "(17975, 35165)\n",
      "(17975, 35165)\n"
     ]
    }
   ],
   "source": [
    "# Read Raster Data\n",
    "\n",
    "data_array1 = ds1.GetRasterBand(1).ReadAsArray()\n",
    "print(data_array1.shape)\n",
    "\n",
    "data_array2 = ds2.GetRasterBand(1).ReadAsArray()\n",
    "print(data_array2.shape)\n",
    "\n",
    "diff = data_array2 - data_array1 \n",
    "print(diff.shape)\n"
   ]
  },
  {
   "cell_type": "code",
   "execution_count": 10,
   "metadata": {},
   "outputs": [
    {
     "data": {
      "text/plain": [
       "(3000, 3000)"
      ]
     },
     "execution_count": 10,
     "metadata": {},
     "output_type": "execute_result"
    }
   ],
   "source": [
    "#Have to Subset\n",
    "\n",
    "# Our data is too big to visualize all at once.\n",
    "# Create a subset by changing the indices below.\n",
    "\n",
    "n1 = 8000\n",
    "n2 = 11000\n",
    "\n",
    "subset_2001 = data_array1[n1:n2,n1:n2]\n",
    "subset_2004 = data_array2[n1:n2,n1:n2]\n",
    "subset_diff = diff[n1:n2,n1:n2]\n",
    "subset_2001.shape # 3000 x 3000 seems to work. You can try bigger."
   ]
  },
  {
   "cell_type": "code",
   "execution_count": 6,
   "metadata": {},
   "outputs": [
    {
     "data": {
      "text/plain": [
       "<function matplotlib.pyplot.colorbar(mappable=None, cax=None, ax=None, **kwargs)>"
      ]
     },
     "execution_count": 6,
     "metadata": {},
     "output_type": "execute_result"
    }
   ],
   "source": [
    "plt.figure(figsize = (10,10))\n",
    "#plt.imshow(data_array1)\n",
    "#plt.imshow(data_array2)\n",
    "plt.imshow(diff)\n",
    "plt.colorbar"
   ]
  },
  {
   "cell_type": "code",
   "execution_count": null,
   "metadata": {},
   "outputs": [],
   "source": []
  }
 ],
 "metadata": {
  "kernelspec": {
   "display_name": "landtrust",
   "language": "python",
   "name": "python3"
  },
  "language_info": {
   "codemirror_mode": {
    "name": "ipython",
    "version": 3
   },
   "file_extension": ".py",
   "mimetype": "text/x-python",
   "name": "python",
   "nbconvert_exporter": "python",
   "pygments_lexer": "ipython3",
   "version": "3.9.16"
  },
  "vscode": {
   "interpreter": {
    "hash": "b4bfbf829e3de34c6fd8cac443d65b0cd1de7428745c48cb9e3ac79bda9b06da"
   }
  }
 },
 "nbformat": 4,
 "nbformat_minor": 4
}
