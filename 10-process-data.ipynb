{
 "cells": [
  {
   "cell_type": "markdown",
   "metadata": {},
   "source": [
    "# 10-process-data\n",
    "> Importing, cleaning, testing, and saving data\n",
    "\n",
    "This series of notebooks reflects operations to scrape, prepare, validate, and save the data."
   ]
  },
  {
   "cell_type": "markdown",
   "metadata": {},
   "source": [
    "#### Helpful packages and preliminaries"
   ]
  },
  {
   "cell_type": "code",
   "execution_count": 44,
   "metadata": {},
   "outputs": [],
   "source": [
    "#data access and processing\n",
    "import numpy as np"
   ]
  },
  {
   "cell_type": "code",
   "execution_count": 40,
   "metadata": {},
   "outputs": [],
   "source": [
    "from osgeo import gdal"
   ]
  },
  {
   "cell_type": "code",
   "execution_count": 41,
   "metadata": {},
   "outputs": [],
   "source": [
    "raster1 = \"/Users/leonslaptop/Desktop/Land_Trust/Data/CONUS2001_ClipAOI.tif\"\n",
    "raster2 = \"/Users/leonslaptop/Desktop/Land_Trust/Data/CONUS2004_ClipAOI.tif\""
   ]
  },
  {
   "cell_type": "code",
   "execution_count": 42,
   "metadata": {},
   "outputs": [],
   "source": [
    "ds1 = gdal.Open(raster1)\n",
    "ds2 = gdal.Open(raster2)"
   ]
  },
  {
   "cell_type": "code",
   "execution_count": 43,
   "metadata": {},
   "outputs": [
    {
     "ename": "AttributeError",
     "evalue": "'Dataset' object has no attribute 'getProjection'",
     "output_type": "error",
     "traceback": [
      "\u001b[0;31m---------------------------------------------------------------------------\u001b[0m",
      "\u001b[0;31mAttributeError\u001b[0m                            Traceback (most recent call last)",
      "Cell \u001b[0;32mIn[43], line 1\u001b[0m\n\u001b[0;32m----> 1\u001b[0m \u001b[39mprint\u001b[39m(\u001b[39m\"\u001b[39m\u001b[39mProjection:\u001b[39m\u001b[39m\"\u001b[39m, ds1\u001b[39m.\u001b[39;49mgetProjection())\n\u001b[1;32m      2\u001b[0m \u001b[39mprint\u001b[39m(\u001b[39m\"\u001b[39m\u001b[39mColumns:\u001b[39m\u001b[39m\"\u001b[39m, ds1\u001b[39m.\u001b[39mRasterXSize)\n\u001b[1;32m      3\u001b[0m \u001b[39mprint\u001b[39m(\u001b[39m\"\u001b[39m\u001b[39mRows:\u001b[39m\u001b[39m\"\u001b[39m, ds1\u001b[39m.\u001b[39mRasterYSize)\n",
      "\u001b[0;31mAttributeError\u001b[0m: 'Dataset' object has no attribute 'getProjection'"
     ]
    }
   ],
   "source": [
    "print(\"Projection:\", ds1.getProjection())\n",
    "print(\"Columns:\", ds1.RasterXSize)\n",
    "print(\"Rows:\", ds1.RasterYSize)\n",
    "print(\"Band count:\", ds1.RasterCount)"
   ]
  }
 ],
 "metadata": {
  "kernelspec": {
   "display_name": "landtrust",
   "language": "python",
   "name": "python3"
  },
  "language_info": {
   "codemirror_mode": {
    "name": "ipython",
    "version": 3
   },
   "file_extension": ".py",
   "mimetype": "text/x-python",
   "name": "python",
   "nbconvert_exporter": "python",
   "pygments_lexer": "ipython3",
   "version": "3.9.16"
  },
  "vscode": {
   "interpreter": {
    "hash": "df4948fa0bd6648500d36624dff1440e5d00ad25a87fdca9709e7e54fb455e80"
   }
  }
 },
 "nbformat": 4,
 "nbformat_minor": 4
}
