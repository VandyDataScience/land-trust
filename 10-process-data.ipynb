{
 "cells": [
  {
   "cell_type": "markdown",
   "metadata": {},
   "source": [
    "# 10-process-data\n",
    "> Importing, cleaning, testing, and saving data\n",
    "\n",
    "This series of notebooks reflects operations to scrape, prepare, validate, and save the data."
   ]
  },
  {
   "cell_type": "markdown",
   "metadata": {},
   "source": [
    "#### Helpful packages and preliminaries"
   ]
  },
  {
   "cell_type": "code",
   "execution_count": 2,
   "metadata": {},
   "outputs": [],
   "source": [
    "#data access and processing\n",
    "#import pandas as pd\n",
    "import numpy as np\n",
    "\n",
    "#Testing assertions\n",
    "#import great_expectations as ge"
   ]
  },
  {
   "cell_type": "code",
   "execution_count": 5,
   "metadata": {},
   "outputs": [],
   "source": [
    "from osgeo import gdal"
   ]
  },
  {
   "cell_type": "code",
   "execution_count": 27,
   "metadata": {},
   "outputs": [],
   "source": [
    "raster1 = \"C:/Users/matth/Documents/code/VDS/land-trust/NEW AOI Raster Dataset/VDS Team Data Share/CONUS2001_ClipAOI.tif\"\n",
    "raster2 = \"C:/Users/matth/Documents/code/VDS/land-trust/NEW AOI Raster Dataset/VDS Team Data Share/CONUS2004_ClipAOI.tif\""
   ]
  },
  {
   "cell_type": "code",
   "execution_count": 28,
   "metadata": {},
   "outputs": [],
   "source": [
    "ds1 = gdal.Open(raster1)\n",
    "ds2 = gdal.Open(raster2)"
   ]
  },
  {
   "cell_type": "code",
   "execution_count": 31,
   "metadata": {},
   "outputs": [
    {
     "name": "stdout",
     "output_type": "stream",
     "text": [
      "Projection:  PROJCS[\"Albers_Conical_Equal_Area\",GEOGCS[\"NAD83\",DATUM[\"North_American_Datum_1983\",SPHEROID[\"GRS 1980\",6378137,298.257222101004,AUTHORITY[\"EPSG\",\"7019\"]],AUTHORITY[\"EPSG\",\"6269\"]],PRIMEM[\"Greenwich\",0],UNIT[\"degree\",0.0174532925199433,AUTHORITY[\"EPSG\",\"9122\"]],AUTHORITY[\"EPSG\",\"4269\"]],PROJECTION[\"Albers_Conic_Equal_Area\"],PARAMETER[\"latitude_of_center\",23],PARAMETER[\"longitude_of_center\",-96],PARAMETER[\"standard_parallel_1\",29.5],PARAMETER[\"standard_parallel_2\",45.5],PARAMETER[\"false_easting\",0],PARAMETER[\"false_northing\",0],UNIT[\"metre\",1,AUTHORITY[\"EPSG\",\"9001\"]],AXIS[\"Easting\",EAST],AXIS[\"Northing\",NORTH]]\n",
      "Columns: 35165\n",
      "Rows: 17975\n",
      "Band count:  1\n"
     ]
    }
   ],
   "source": [
    "print(\"Projection: \", ds1.GetProjection()) #get projection\n",
    "print(\"Columns:\", ds1.RasterXSize) #number of columns\n",
    "print(\"Rows:\", ds1.RasterYSize) #number of rows\n",
    "print(\"Band count: \", ds1.RasterCount) #number of bands"
   ]
  },
  {
   "cell_type": "code",
   "execution_count": null,
   "metadata": {},
   "outputs": [],
   "source": []
  }
 ],
 "metadata": {
  "kernelspec": {
   "display_name": "landtrust",
   "language": "python",
   "name": "python3"
  },
  "language_info": {
   "codemirror_mode": {
    "name": "ipython",
    "version": 3
   },
   "file_extension": ".py",
   "mimetype": "text/x-python",
   "name": "python",
   "nbconvert_exporter": "python",
   "pygments_lexer": "ipython3",
   "version": "3.9.16"
  },
  "vscode": {
   "interpreter": {
    "hash": "f305f5312fb6ba29934c65a0f63f87e5a7476fae767645c0e9b7d0f7306a76ca"
   }
  }
 },
 "nbformat": 4,
 "nbformat_minor": 4
}
