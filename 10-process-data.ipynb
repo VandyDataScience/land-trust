{
 "cells": [
  {
   "cell_type": "markdown",
   "metadata": {},
   "source": [
    "# 10-process-data\n",
    "> Importing, cleaning, testing, and saving data\n",
    "\n",
    "This series of notebooks reflects operations to scrape, prepare, validate, and save the data."
   ]
  },
  {
   "cell_type": "markdown",
   "metadata": {},
   "source": [
    "#### Helpful packages and preliminaries"
   ]
  },
  {
   "cell_type": "code",
   "execution_count": null,
   "metadata": {},
   "outputs": [],
   "source": [
    "#data access and processing\n",
    "import numpy as np\n",
    "\n"
   ]
  },
  {
   "cell_type": "code",
   "execution_count": null,
   "metadata": {},
   "outputs": [],
   "source": [
    "data_in_filename = ''\n",
    "cleaned_data_filename = ''"
   ]
  }
 ],
 "metadata": {
  "kernelspec": {
   "display_name": "landtrust",
   "language": "python",
   "name": "python3"
  },
  "language_info": {
   "name": "python",
   "version": "3.9.16"
  },
  "vscode": {
   "interpreter": {
    "hash": "b4bfbf829e3de34c6fd8cac443d65b0cd1de7428745c48cb9e3ac79bda9b06da"
   }
  }
 },
 "nbformat": 4,
 "nbformat_minor": 4
}
